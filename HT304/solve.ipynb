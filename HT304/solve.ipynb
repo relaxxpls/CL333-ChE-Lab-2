{
 "cells": [
  {
   "cell_type": "code",
   "execution_count": 2,
   "metadata": {},
   "outputs": [],
   "source": [
    "import numpy as np"
   ]
  },
  {
   "cell_type": "code",
   "execution_count": 19,
   "metadata": {},
   "outputs": [
    {
     "name": "stdout",
     "output_type": "stream",
     "text": [
      "Reynolds number at V = 950 lph: 7437.46\n",
      "Reynolds number at V = 850 lph: 6654.57\n",
      "Reynolds number at V = 760 lph: 5949.97\n"
     ]
    }
   ],
   "source": [
    "# cold fluid flow rate turbulent, 380lph\n",
    "\n",
    "def calcReynoldsTurbulent(_V):\n",
    "    \"\"\"\n",
    "    hot fluid, turbulent\n",
    "    \"\"\"\n",
    "\n",
    "    V = _V * 1e-3 / 3600 # vol flow rate, lph -> m^3 / s\n",
    "\n",
    "    r = 1e-2 / 2 # radius, m\n",
    "    A = 3.14 * r**2 # area, m^2\n",
    "    v = V / A # velocity, m/s\n",
    "\n",
    "    rho = 1084.1 # density, kg/m3\n",
    "    nu = 0.0049 # viscosity, Pa.s\n",
    "    l = 2 * r # length, m\n",
    "    Re = rho * v * l / nu\n",
    "\n",
    "    print(f'Reynolds number at V = {_V} lph: {Re:.2f}')\n",
    "\n",
    "V1 = 950 # lph\n",
    "calcReynoldsTurbulent(V1)\n",
    "\n",
    "V1 = 850 # lph\n",
    "calcReynoldsTurbulent(V1)\n",
    "\n",
    "V1 = 760 # lph\n",
    "calcReynoldsTurbulent(V1)\n"
   ]
  },
  {
   "cell_type": "code",
   "execution_count": 32,
   "metadata": {},
   "outputs": [
    {
     "name": "stdout",
     "output_type": "stream",
     "text": [
      "Volumetric flow rate at (h, t) = (0.200 m, 85.000 s): 1.414154411764706e-05 m^3/s\n",
      "Reynolds number at (h, t) = (0.2, 85): 0.3103\n",
      "\n",
      "Volumetric flow rate at (h, t) = (0.200 m, 24.970 s): 4.8139016820184224e-05 m^3/s\n",
      "Reynolds number at (h, t) = (0.2, 24.97): 1.0563\n",
      "\n"
     ]
    }
   ],
   "source": [
    "def calcReynoldsLaminar(h, t):\n",
    "    \"\"\"\n",
    "    hot fluid, laminar\n",
    "    \"\"\"\n",
    "\n",
    "    r_measuring = 8.75e-2 / 2 # radius, m\n",
    "    A = 3.14 * r_measuring**2 # area, m^2\n",
    "    V = h * A / t # vol flow rate, lph -> m^3 / s\n",
    "    print(f'Volumetric flow rate at (h, t) = ({h:.3f} m, {t:.3f} s): {V} m^3/s')\n",
    "\n",
    "    r = 1e-2 / 2 # radius, m\n",
    "    v = h / t # velocity, m/s\n",
    "    rho = 1239.7 # density, kg/m3\n",
    "\n",
    "    nu = 0.094 # viscosity, Pa.s\n",
    "    l = 2 * r # length, m\n",
    "    Re = rho * v * l / nu\n",
    "\n",
    "    print(f'Reynolds number at (h, t) = ({h}, {t}): {Re:.4f}\\n')\n",
    "\n",
    "calcReynoldsLaminar(0.2, 85)\n",
    "\n",
    "calcReynoldsLaminar(0.2, 24.97)\n"
   ]
  },
  {
   "cell_type": "code",
   "execution_count": 10,
   "metadata": {},
   "outputs": [
    {
     "name": "stdout",
     "output_type": "stream",
     "text": [
      "0.0005927246224331701 0.00805019190208387\n",
      "0.07362863266399124\n"
     ]
    }
   ],
   "source": [
    "h = np.array([0, 5, 10, 15, 20]) * 1e-2\n",
    "t = np.array([0, 5.52, 11.85, 18.41, 24.97])\n",
    "v = []\n",
    "\n",
    "for i in range(1, len(h)):\n",
    "    dh = h[i] - h[i-1]\n",
    "    dt = t[i] - t[i-1]\n",
    "    # calcReynoldsLaminar(dh, dt)\n",
    "\n",
    "    v.append(dh / dt)\n",
    "\n",
    "v = np.array(v)\n",
    "\n",
    "print(v.std(), v.mean())\n",
    "print(v.std() / v.mean())\n",
    "\n"
   ]
  }
 ],
 "metadata": {
  "interpreter": {
   "hash": "63fd5069d213b44bf678585dea6b12cceca9941eaf7f819626cde1f2670de90d"
  },
  "kernelspec": {
   "display_name": "Python 3.9.6 64-bit",
   "name": "python3"
  },
  "language_info": {
   "codemirror_mode": {
    "name": "ipython",
    "version": 3
   },
   "file_extension": ".py",
   "mimetype": "text/x-python",
   "name": "python",
   "nbconvert_exporter": "python",
   "pygments_lexer": "ipython3",
   "version": "3.9.6"
  },
  "orig_nbformat": 4
 },
 "nbformat": 4,
 "nbformat_minor": 2
}
