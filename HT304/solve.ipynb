{
 "cells": [
  {
   "cell_type": "code",
   "execution_count": 26,
   "source": [
    "import numpy as np\r\n"
   ],
   "outputs": [],
   "metadata": {}
  },
  {
   "cell_type": "code",
   "execution_count": 19,
   "source": [
    "# cold fluid flow rate turbulent, 380lph\r\n",
    "\r\n",
    "def calcReynoldsTurbulent(_V):\r\n",
    "    \"\"\"\r\n",
    "    hot fluid, turbulent\r\n",
    "    \"\"\"\r\n",
    "\r\n",
    "    V = _V * 1e-3 / 3600 # vol flow rate, lph -> m^3 / s\r\n",
    "\r\n",
    "    r = 1e-2 / 2 # radius, m\r\n",
    "    A = 3.14 * r**2 # area, m^2\r\n",
    "    v = V / A # velocity, m/s\r\n",
    "\r\n",
    "    rho = 1084.1 # density, kg/m3\r\n",
    "    nu = 0.0049 # viscosity, Pa.s\r\n",
    "    l = 2 * r # length, m\r\n",
    "    Re = rho * v * l / nu\r\n",
    "\r\n",
    "    print(f'Reynolds number at V = {_V} lph: {Re:.2f}')\r\n",
    "\r\n",
    "V1 = 950 # lph\r\n",
    "calcReynoldsTurbulent(V1)\r\n",
    "\r\n",
    "V1 = 850 # lph\r\n",
    "calcReynoldsTurbulent(V1)\r\n",
    "\r\n",
    "V1 = 760 # lph\r\n",
    "calcReynoldsTurbulent(V1)\r\n"
   ],
   "outputs": [
    {
     "output_type": "stream",
     "name": "stdout",
     "text": [
      "Reynolds number at V = 950 lph: 7437.46\n",
      "Reynolds number at V = 850 lph: 6654.57\n",
      "Reynolds number at V = 760 lph: 5949.97\n"
     ]
    }
   ],
   "metadata": {}
  },
  {
   "cell_type": "code",
   "execution_count": 32,
   "source": [
    "def calcReynoldsLaminar(h, t):\r\n",
    "    \"\"\"\r\n",
    "    hot fluid, laminar\r\n",
    "    \"\"\"\r\n",
    "\r\n",
    "    r_measuring = 8.75e-2 / 2 # radius, m\r\n",
    "    A = 3.14 * r_measuring**2 # area, m^2\r\n",
    "    V = h * A / t # vol flow rate, lph -> m^3 / s\r\n",
    "    print(f'Volumetric flow rate at (h, t) = ({h:.3f} m, {t:.3f} s): {V} m^3/s')\r\n",
    "\r\n",
    "    r = 1e-2 / 2 # radius, m\r\n",
    "    v = h / t # velocity, m/s\r\n",
    "    rho = 1239.7 # density, kg/m3\r\n",
    "\r\n",
    "    nu = 0.094 # viscosity, Pa.s\r\n",
    "    l = 2 * r # length, m\r\n",
    "    Re = rho * v * l / nu\r\n",
    "\r\n",
    "    print(f'Reynolds number at (h, t) = ({h}, {t}): {Re:.4f}\\n')\r\n",
    "\r\n",
    "calcReynoldsLaminar(0.2, 85)\r\n",
    "\r\n",
    "calcReynoldsLaminar(0.2, 24.97)\r\n"
   ],
   "outputs": [
    {
     "output_type": "stream",
     "name": "stdout",
     "text": [
      "Volumetric flow rate at (h, t) = (0.200 m, 85.000 s): 1.414154411764706e-05 m^3/s\n",
      "Reynolds number at (h, t) = (0.2, 85): 0.3103\n",
      "\n",
      "Volumetric flow rate at (h, t) = (0.200 m, 24.970 s): 4.8139016820184224e-05 m^3/s\n",
      "Reynolds number at (h, t) = (0.2, 24.97): 1.0563\n",
      "\n"
     ]
    }
   ],
   "metadata": {}
  },
  {
   "cell_type": "code",
   "execution_count": 29,
   "source": [
    "h = np.array([0, 5, 10, 15, 20]) * 1e-2\r\n",
    "t = np.array([0, 5.52, 11.85, 18.41, 24.97])\r\n",
    "\r\n",
    "for i in range(1, len(h)):\r\n",
    "    dh = h[i] - h[i-1]\r\n",
    "    dt = t[i] - t[i-1]\r\n",
    "\r\n",
    "    calcReynoldsLaminar(dh, dt)\r\n"
   ],
   "outputs": [
    {
     "output_type": "stream",
     "name": "stdout",
     "text": [
      "Volumetric flow rate at (h, t) = (0.05 m, 5.52 s): 5.443982110507247e-05 m^3/s\n",
      "Reynolds number at (h, t) = (0.05, 5.52): 1.1946\n",
      "\n",
      "Volumetric flow rate at (h, t) = (0.05 m, 6.33 s): 4.747358807266982e-05 m^3/s\n",
      "Reynolds number at (h, t) = (0.05, 6.33): 1.0417\n",
      "\n",
      "Volumetric flow rate at (h, t) = (0.04999999999999999 m, 6.5600000000000005 s): 4.580911775914633e-05 m^3/s\n",
      "Reynolds number at (h, t) = (0.04999999999999999, 6.5600000000000005): 1.0052\n",
      "\n",
      "Volumetric flow rate at (h, t) = (0.05000000000000002 m, 6.559999999999999 s): 4.580911775914637e-05 m^3/s\n",
      "Reynolds number at (h, t) = (0.05000000000000002, 6.559999999999999): 1.0052\n",
      "\n"
     ]
    }
   ],
   "metadata": {}
  }
 ],
 "metadata": {
  "orig_nbformat": 4,
  "language_info": {
   "name": "python",
   "version": "3.9.6",
   "mimetype": "text/x-python",
   "codemirror_mode": {
    "name": "ipython",
    "version": 3
   },
   "pygments_lexer": "ipython3",
   "nbconvert_exporter": "python",
   "file_extension": ".py"
  },
  "kernelspec": {
   "name": "python3",
   "display_name": "Python 3.9.6 64-bit"
  },
  "interpreter": {
   "hash": "63fd5069d213b44bf678585dea6b12cceca9941eaf7f819626cde1f2670de90d"
  }
 },
 "nbformat": 4,
 "nbformat_minor": 2
}