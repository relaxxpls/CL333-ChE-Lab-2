{
 "cells": [
  {
   "cell_type": "code",
   "execution_count": 6,
   "source": [
    "# hot fluid, turbulent\r\n",
    "V = 950 * 1e-3 / 3600 # vol flow rate, m^3 / s\r\n",
    "\r\n",
    "r1 = 1.27 / 2 * 1e-2 # inner radius, m\r\n",
    "r2 = 2.2 / 2 * 1e-2 # outer radius, m\r\n",
    "\r\n",
    "a = 3.14 * (r2**2 - r1**2) # area, m^2\r\n",
    "\r\n",
    "v = V / a # velocity, m/s\r\n",
    "\r\n",
    "rho = 1084.1 # density, kg/m3\r\n",
    "\r\n",
    "nu = 0.0049 # viscosity, Pa.s\r\n",
    "l = 0.85 # length, m\r\n",
    "Re = rho * v * l / nu\r\n",
    "\r\n",
    "print(Re)"
   ],
   "outputs": [
    {
     "output_type": "stream",
     "name": "stdout",
     "text": [
      "195898.546882391\n"
     ]
    }
   ],
   "metadata": {}
  },
  {
   "cell_type": "code",
   "execution_count": null,
   "source": [
    "# cold fluid flow rate turbulent, 380lph"
   ],
   "outputs": [],
   "metadata": {}
  }
 ],
 "metadata": {
  "orig_nbformat": 4,
  "language_info": {
   "name": "python",
   "version": "3.9.6",
   "mimetype": "text/x-python",
   "codemirror_mode": {
    "name": "ipython",
    "version": 3
   },
   "pygments_lexer": "ipython3",
   "nbconvert_exporter": "python",
   "file_extension": ".py"
  },
  "kernelspec": {
   "name": "python3",
   "display_name": "Python 3.9.6 64-bit"
  },
  "interpreter": {
   "hash": "63fd5069d213b44bf678585dea6b12cceca9941eaf7f819626cde1f2670de90d"
  }
 },
 "nbformat": 4,
 "nbformat_minor": 2
}