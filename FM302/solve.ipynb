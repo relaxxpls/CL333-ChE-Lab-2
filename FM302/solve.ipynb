{
 "cells": [
  {
   "cell_type": "code",
   "execution_count": 89,
   "source": [
    "import matplotlib.pyplot as plt\r\n",
    "import numpy as np\r\n",
    "import pandas as pd\r\n",
    "from IPython.display import display"
   ],
   "outputs": [],
   "metadata": {}
  },
  {
   "cell_type": "markdown",
   "source": [
    "# Vertical cyllinder"
   ],
   "metadata": {}
  },
  {
   "cell_type": "code",
   "execution_count": 90,
   "source": [
    "rho_s = 2710 # kg/m^3, density of solid\r\n",
    "rho_l = 1000 # kg/m^3, density of fluid\r\n",
    "eta_l = 0.001 # kg/m-s, viscosity of fluid\r\n",
    "g = 9.8 # m/s^2, gravitational acceleration\r\n"
   ],
   "outputs": [],
   "metadata": {}
  },
  {
   "cell_type": "code",
   "execution_count": 91,
   "source": [
    "df = pd.read_csv('./verticle_cyllinder.csv')\r\n",
    "display(df.head())\r\n"
   ],
   "outputs": [
    {
     "output_type": "display_data",
     "data": {
      "text/html": [
       "<div>\n",
       "<style scoped>\n",
       "    .dataframe tbody tr th:only-of-type {\n",
       "        vertical-align: middle;\n",
       "    }\n",
       "\n",
       "    .dataframe tbody tr th {\n",
       "        vertical-align: top;\n",
       "    }\n",
       "\n",
       "    .dataframe thead th {\n",
       "        text-align: right;\n",
       "    }\n",
       "</style>\n",
       "<table border=\"1\" class=\"dataframe\">\n",
       "  <thead>\n",
       "    <tr style=\"text-align: right;\">\n",
       "      <th></th>\n",
       "      <th>t</th>\n",
       "      <th>h_20</th>\n",
       "      <th>h_40</th>\n",
       "      <th>h_60</th>\n",
       "      <th>h_80</th>\n",
       "      <th>h_160</th>\n",
       "    </tr>\n",
       "  </thead>\n",
       "  <tbody>\n",
       "    <tr>\n",
       "      <th>0</th>\n",
       "      <td>0</td>\n",
       "      <td>346.0</td>\n",
       "      <td>347.0</td>\n",
       "      <td>344.0</td>\n",
       "      <td>345</td>\n",
       "      <td>363.0</td>\n",
       "    </tr>\n",
       "    <tr>\n",
       "      <th>1</th>\n",
       "      <td>1</td>\n",
       "      <td>328.0</td>\n",
       "      <td>333.0</td>\n",
       "      <td>334.0</td>\n",
       "      <td>338</td>\n",
       "      <td>358.0</td>\n",
       "    </tr>\n",
       "    <tr>\n",
       "      <th>2</th>\n",
       "      <td>2</td>\n",
       "      <td>308.0</td>\n",
       "      <td>323.0</td>\n",
       "      <td>328.0</td>\n",
       "      <td>334</td>\n",
       "      <td>356.0</td>\n",
       "    </tr>\n",
       "    <tr>\n",
       "      <th>3</th>\n",
       "      <td>3</td>\n",
       "      <td>283.0</td>\n",
       "      <td>313.0</td>\n",
       "      <td>323.0</td>\n",
       "      <td>331</td>\n",
       "      <td>355.0</td>\n",
       "    </tr>\n",
       "    <tr>\n",
       "      <th>4</th>\n",
       "      <td>4</td>\n",
       "      <td>268.0</td>\n",
       "      <td>302.0</td>\n",
       "      <td>318.0</td>\n",
       "      <td>328</td>\n",
       "      <td>355.0</td>\n",
       "    </tr>\n",
       "  </tbody>\n",
       "</table>\n",
       "</div>"
      ],
      "text/plain": [
       "   t   h_20   h_40   h_60  h_80  h_160\n",
       "0  0  346.0  347.0  344.0   345  363.0\n",
       "1  1  328.0  333.0  334.0   338  358.0\n",
       "2  2  308.0  323.0  328.0   334  356.0\n",
       "3  3  283.0  313.0  323.0   331  355.0\n",
       "4  4  268.0  302.0  318.0   328  355.0"
      ]
     },
     "metadata": {}
    }
   ],
   "metadata": {}
  },
  {
   "cell_type": "code",
   "execution_count": 96,
   "source": [
    "c = [20, 40, 60, 80, 160] # concentration (kg/m^3)\r\n",
    "c = np.array(c)\r\n",
    "u = np.zeros((len(c))) # velocity (m/s)\r\n",
    "u[0] = df['h_20'][0] - df['h_20'][1] # mm/min\r\n",
    "u[1] = df['h_40'][0] - df['h_40'][1] # mm/min\r\n",
    "u[2] = df['h_60'][0] - df['h_60'][1] # mm/min\r\n",
    "u[3] = df['h_80'][0] - df['h_80'][1] # mm/min\r\n",
    "u[4] = df['h_160'][0] - df['h_160'][1] # mm/min\r\n",
    "\r\n",
    "u /= 60 # mm/s\r\n",
    "print(u, c)\r\n"
   ],
   "outputs": [
    {
     "output_type": "stream",
     "name": "stdout",
     "text": [
      "[0.3        0.23333333 0.16666667 0.11666667 0.08333333] [ 20  40  60  80 160]\n"
     ]
    }
   ],
   "metadata": {}
  },
  {
   "cell_type": "markdown",
   "source": [
    "$$\r\n",
    "    u_s = u_t * (1 - k * \\frac{c}{\\rho_s})^n\r\n",
    "$$\r\n",
    "\r\n",
    "$$\r\n",
    "    (\\frac{u_1}{u_2})^{1/n} = \\frac{1 - k*\\frac{c_1}{\\rho_s}}{1 - k*\\frac{c_2}{\\rho_s}} = \\alpha\r\n",
    "$$\r\n",
    "\r\n",
    "$$\r\n",
    "    k = \\frac{\\rho_s * (1 - \\alpha)}{c_1 - \\alpha * c_2}\r\n",
    "$$"
   ],
   "metadata": {}
  },
  {
   "cell_type": "code",
   "execution_count": 95,
   "source": [
    "n = 4.5\r\n",
    "k = [0] * len(c)\r\n",
    "\r\n",
    "for i in range(1, len(c)):\r\n",
    "    alpha = (u[i] / u[i-1])**(1/n)\r\n",
    "    k[i] = rho_s * (1 - alpha) / (c[i] - alpha * c[i-1])\r\n",
    "\r\n",
    "k = sum(k) / len(k)\r\n",
    "\r\n",
    "print(\"Average k: \", k)\r\n"
   ],
   "outputs": [
    {
     "output_type": "stream",
     "name": "stdout",
     "text": [
      "k:  [0, 6.9807542861358565, 8.532589372065589, 8.404073284481672, 2.2765012182986823]\n",
      "Average k:  5.238783632196361\n"
     ]
    }
   ],
   "metadata": {}
  },
  {
   "cell_type": "code",
   "execution_count": 118,
   "source": [
    "epsilon = 1 - k * c / rho_s\r\n",
    "\r\n",
    "ln_u = np.log(u)\r\n",
    "ln_epsilon = np.log(epsilon)\r\n",
    "\r\n",
    "plt.plot(ln_epsilon, ln_u, 'o')\r\n",
    "\r\n",
    "_m, _c = np.polyfit(ln_epsilon, ln_u, 1)\r\n",
    "plt.plot(ln_epsilon, _m * ln_epsilon + _c, '--')\r\n",
    "\r\n",
    "plt.xlabel('ln($\\epsilon$)')\r\n",
    "plt.ylabel('ln(u)')\r\n",
    "plt.title('ln(u) v/s ln($\\epsilon$)')\r\n",
    "\r\n",
    "u_t = np.exp(_c) # mm\r\n",
    "print(f\"Terminal velocity: {u_t} mm/s\")\r\n",
    "u_t *= 1e-3 # m\r\n"
   ],
   "outputs": [
    {
     "output_type": "stream",
     "name": "stdout",
     "text": [
      "Terminal velocity: 0.29053260485479465 mm/s\n"
     ]
    },
    {
     "output_type": "display_data",
     "data": {
      "image/png": "[encoded data removed]",
      "text/plain": [
       "<Figure size 432x288 with 1 Axes>"
      ]
     },
     "metadata": {
      "needs_background": "light"
     }
    }
   ],
   "metadata": {}
  },
  {
   "cell_type": "code",
   "execution_count": 119,
   "source": [
    "rho_eff = ((k-1) * rho_l + rho_s) / k\r\n",
    "D_p = np.sqrt((18 * eta_l * u_t) / (g * (rho_eff - rho_l))) # m, particle diameter\r\n",
    "print(f\"Effective diameter: {D_p * 1e6} micron\")\r\n",
    "\r\n",
    "error = (50e-6 - D_p) / D_p * 100\r\n",
    "print(f\"Percent error: {error} %\")\r\n",
    "\r\n",
    "Re = rho_eff * u_t * D_p / eta_l\r\n",
    "print(f\"Reynolds number: {Re}\")\r\n"
   ],
   "outputs": [
    {
     "output_type": "stream",
     "name": "stdout",
     "text": [
      "Effective diameter: 40.433173506401744 micron\n",
      "Percent error: 23.660835061792902 %\n",
      "Reynolds number: 0.015581563518942085\n"
     ]
    }
   ],
   "metadata": {}
  },
  {
   "cell_type": "code",
   "execution_count": null,
   "source": [],
   "outputs": [],
   "metadata": {}
  },
  {
   "cell_type": "code",
   "execution_count": null,
   "source": [],
   "outputs": [],
   "metadata": {}
  },
  {
   "cell_type": "markdown",
   "source": [
    "# Tilted cyllinder"
   ],
   "metadata": {}
  },
  {
   "cell_type": "code",
   "execution_count": null,
   "source": [
    "w = 102.5 # mm\r\n",
    "b = 100.5 # mm\r\n",
    "theta = 15 # deg\r\n",
    "\r\n"
   ],
   "outputs": [],
   "metadata": {}
  },
  {
   "cell_type": "code",
   "execution_count": null,
   "source": [],
   "outputs": [],
   "metadata": {}
  },
  {
   "cell_type": "code",
   "execution_count": null,
   "source": [],
   "outputs": [],
   "metadata": {}
  }
 ],
 "metadata": {
  "orig_nbformat": 4,
  "language_info": {
   "name": "python",
   "version": "3.9.6",
   "mimetype": "text/x-python",
   "codemirror_mode": {
    "name": "ipython",
    "version": 3
   },
   "pygments_lexer": "ipython3",
   "nbconvert_exporter": "python",
   "file_extension": ".py"
  },
  "kernelspec": {
   "name": "python3",
   "display_name": "Python 3.9.6 64-bit"
  },
  "interpreter": {
   "hash": "63fd5069d213b44bf678585dea6b12cceca9941eaf7f819626cde1f2670de90d"
  }
 },
 "nbformat": 4,
 "nbformat_minor": 2
}